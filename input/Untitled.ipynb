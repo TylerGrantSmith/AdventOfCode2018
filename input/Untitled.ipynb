{
 "cells": [
  {
   "cell_type": "code",
   "execution_count": 2,
   "metadata": {},
   "outputs": [],
   "source": [
    "from collections import deque"
   ]
  },
  {
   "cell_type": "code",
   "execution_count": 10,
   "metadata": {},
   "outputs": [],
   "source": [
    "E = open('day8.txt').read().split(\" \")"
   ]
  },
  {
   "cell_type": "code",
   "execution_count": 14,
   "metadata": {},
   "outputs": [],
   "source": [
    "input = \"2 3 0 3 10 11 12 1 1 0 1 99 2 1 1 2\".split(\" \")"
   ]
  },
  {
   "cell_type": "code",
   "execution_count": 15,
   "metadata": {},
   "outputs": [
    {
     "data": {
      "text/plain": [
       "['2',\n",
       " '3',\n",
       " '0',\n",
       " '3',\n",
       " '10',\n",
       " '11',\n",
       " '12',\n",
       " '1',\n",
       " '1',\n",
       " '0',\n",
       " '1',\n",
       " '99',\n",
       " '2',\n",
       " '1',\n",
       " '1',\n",
       " '2']"
      ]
     },
     "execution_count": 15,
     "metadata": {},
     "output_type": "execute_result"
    }
   ],
   "source": [
    "input"
   ]
  },
  {
   "cell_type": "code",
   "execution_count": 16,
   "metadata": {},
   "outputs": [],
   "source": [
    "class Tree(object):\n",
    "    def __init__(self, name='root', children = None, meta = None):\n",
    "        self.name = name\n",
    "        self.children = []\n",
    "        if children is not None:\n",
    "            for child in children:\n",
    "                self.add_child(child)\n",
    "        self.meta = None\n",
    "    def __repr__(self):\n",
    "        return self.name\n",
    "    \n",
    "    def add_child(self, node):\n",
    "        assert isinstance(node, Tree)\n",
    "        self.children.append(node)     "
   ]
  },
  {
   "cell_type": "raw",
   "metadata": {},
   "source": [
    "root = Tree()"
   ]
  },
  {
   "cell_type": "code",
   "execution_count": null,
   "metadata": {},
   "outputs": [],
   "source": [
    "def read_node(L):\n",
    "    node = Tree()\n",
    "    children = L.pop()\n",
    "    meta = L.pop()\n",
    "    for i in range(children):\n",
    "        node.add_child(r)\n",
    "        \n",
    "    node = Tree(children = L.pop(), meta = L.pop())\n",
    "    if node."
   ]
  },
  {
   "cell_type": "code",
   "execution_count": 26,
   "metadata": {},
   "outputs": [],
   "source": [
    "data = [int(x) for x in open('day8.txt').read().split()]"
   ]
  },
  {
   "cell_type": "code",
   "execution_count": 32,
   "metadata": {},
   "outputs": [
    {
     "name": "stdout",
     "output_type": "stream",
     "text": [
      "part 1: 35852\n"
     ]
    }
   ],
   "source": [
    "def parse(data):\n",
    "    children, metas = data[:2]\n",
    "    data = data[2:]\n",
    "\n",
    "    totals = 0\n",
    "    \n",
    "    for i in range(children):\n",
    "        total, data = parse(data)\n",
    "        totals += total\n",
    "    \n",
    "    totals += sum(data[:metas])\n",
    "    \n",
    "    return(totals, data[metas:])\n",
    "    \n",
    "total, remaining = parse(data)\n",
    "\n",
    "print('part 1:', total)"
   ]
  },
  {
   "cell_type": "code",
   "execution_count": 180,
   "metadata": {},
   "outputs": [
    {
     "data": {
      "text/plain": [
       "54718"
      ]
     },
     "execution_count": 180,
     "metadata": {},
     "output_type": "execute_result"
    }
   ],
   "source": [
    "from collections import deque, defaultdict\n",
    "\n",
    "def play_game(player_count, marble_count):\n",
    "    scores = defaultdict(int)\n",
    "    circle = deque([0])\n",
    "    player = 0\n",
    "    \n",
    "    for i in range(1,marble_count + 1):\n",
    "        if (i % 23 == 0):\n",
    "            circle.rotate(7)\n",
    "            scores[current_player] += i + circle.pop()\n",
    "            circle.rotate(-1)\n",
    "        else:\n",
    "            circle.rotate(-1)\n",
    "            circle.append(i)\n",
    "        \n",
    "        current_player = 1 + i % player_count\n",
    "    return max(scores.values()) if scores else 0\n",
    "\n",
    "play_game(21,6111)"
   ]
  },
  {
   "cell_type": "code",
   "execution_count": 170,
   "metadata": {},
   "outputs": [
    {
     "data": {
      "text/plain": [
       "3169872331"
      ]
     },
     "execution_count": 170,
     "metadata": {},
     "output_type": "execute_result"
    }
   ],
   "source": [
    "max(scores.values())"
   ]
  }
 ],
 "metadata": {
  "kernelspec": {
   "display_name": "Python 3",
   "language": "python",
   "name": "python3"
  },
  "language_info": {
   "codemirror_mode": {
    "name": "ipython",
    "version": 3
   },
   "file_extension": ".py",
   "mimetype": "text/x-python",
   "name": "python",
   "nbconvert_exporter": "python",
   "pygments_lexer": "ipython3",
   "version": "3.5.5"
  }
 },
 "nbformat": 4,
 "nbformat_minor": 2
}
